{
  "cells": [
    {
      "cell_type": "markdown",
      "metadata": {
        "id": "view-in-github",
        "colab_type": "text"
      },
      "source": [
        "<a href=\"https://colab.research.google.com/github/deepaktamil20/Mini_Projects/blob/main/Spark_Assignment.ipynb\" target=\"_parent\"><img src=\"https://colab.research.google.com/assets/colab-badge.svg\" alt=\"Open In Colab\"/></a>"
      ]
    },
    {
      "cell_type": "code",
      "execution_count": null,
      "metadata": {
        "id": "eKUlQ7HWGCW8"
      },
      "outputs": [],
      "source": [
        "from pyspark.sql import SparkSession\n",
        "import numpy as np"
      ]
    },
    {
      "cell_type": "code",
      "execution_count": null,
      "metadata": {
        "id": "-PTcMZmzGCXC"
      },
      "outputs": [],
      "source": [
        "#create instance of spark class \n",
        "spark=SparkSession.builder.appName('Questions').getOrCreate()"
      ]
    },
    {
      "cell_type": "code",
      "execution_count": null,
      "metadata": {
        "id": "5GRx-g7jGCXD",
        "outputId": "726fab9d-4082-4349-8947-2a05c70156b9"
      },
      "outputs": [
        {
          "data": {
            "text/html": [
              "\n",
              "            <div>\n",
              "                <p><b>SparkSession - in-memory</b></p>\n",
              "                \n",
              "        <div>\n",
              "            <p><b>SparkContext</b></p>\n",
              "\n",
              "            <p><a href=\"http://192.168.0.106:4042\">Spark UI</a></p>\n",
              "\n",
              "            <dl>\n",
              "              <dt>Version</dt>\n",
              "                <dd><code>v3.0.1</code></dd>\n",
              "              <dt>Master</dt>\n",
              "                <dd><code>local[*]</code></dd>\n",
              "              <dt>AppName</dt>\n",
              "                <dd><code>Questions</code></dd>\n",
              "            </dl>\n",
              "        </div>\n",
              "        \n",
              "            </div>\n",
              "        "
            ],
            "text/plain": [
              "<pyspark.sql.session.SparkSession at 0x7f050fba51c0>"
            ]
          },
          "execution_count": 68,
          "metadata": {},
          "output_type": "execute_result"
        }
      ],
      "source": [
        "spark"
      ]
    },
    {
      "cell_type": "code",
      "execution_count": null,
      "metadata": {
        "id": "GhqNSEx4GCXE",
        "outputId": "0d0cf8f9-8db5-4ff4-e00b-9924c7acc56b"
      },
      "outputs": [
        {
          "name": "stdout",
          "output_type": "stream",
          "text": [
            "+-----------+----------+---------+--------------------+------------+----------+------+------+----------+-----------------+\n",
            "|employee_id|first_name|last_name|               email|phone_number| hire_date|job_id|salary|manager_id|emp_department_id|\n",
            "+-----------+----------+---------+--------------------+------------+----------+------+------+----------+-----------------+\n",
            "|        100|    Steven|     King|steven.king@sqltu...|515.123.4567|1987-06-17|     4| 24000|      null|                9|\n",
            "|        101|     Neena|  Kochhar|neena.kochhar@sql...|515.123.4568|1989-09-21|     5| 17000|       100|                9|\n",
            "|        102|       Lex|   DeHaan|lex.dehaan@sqltut...|515.123.4569|1993-01-13|     5| 17000|       100|                9|\n",
            "|        103| Alexander|   Hunold|alexander.hunold@...|590.423.4567|1990-01-03|     9|  9000|       102|                6|\n",
            "|        104|     Bruce|    Ernst|bruce.ernst@sqltu...|590.423.4568|1991-05-21|     9|  6000|       103|                6|\n",
            "+-----------+----------+---------+--------------------+------------+----------+------+------+----------+-----------------+\n",
            "only showing top 5 rows\n",
            "\n"
          ]
        }
      ],
      "source": [
        "emp = spark.read.csv('employee.csv',header='true', \n",
        "                      inferSchema='true')\n",
        "emp.show(5)"
      ]
    },
    {
      "cell_type": "code",
      "execution_count": null,
      "metadata": {
        "id": "RHGhGxWLGCXG",
        "outputId": "54c22cdb-7ba4-40cf-8d29-3dc4d8148fde"
      },
      "outputs": [
        {
          "name": "stdout",
          "output_type": "stream",
          "text": [
            "+-------------+---------------+---------------+\n",
            "|department_id|department_name|dep_location_id|\n",
            "+-------------+---------------+---------------+\n",
            "|            1| Administration|           1700|\n",
            "|            2|      Marketing|           1800|\n",
            "|            3|     Purchasing|           1700|\n",
            "|            4|Human Resources|           2400|\n",
            "|            5|       Shipping|           1500|\n",
            "+-------------+---------------+---------------+\n",
            "only showing top 5 rows\n",
            "\n"
          ]
        }
      ],
      "source": [
        "dept = spark.read.csv('department.csv',header='true', \n",
        "                      inferSchema='true')\n",
        "dept.show(5)"
      ]
    },
    {
      "cell_type": "code",
      "execution_count": null,
      "metadata": {
        "id": "0SaGZ8YcGCXH",
        "outputId": "1c7c1d9e-62ec-44ab-d807-6072e8819ffc"
      },
      "outputs": [
        {
          "name": "stdout",
          "output_type": "stream",
          "text": [
            "+-----------+-------------------+-----------+-------------------+--------------+-------------------+\n",
            "|location_id|     street_address|postal_code|               city|state_province|location_country_id|\n",
            "+-----------+-------------------+-----------+-------------------+--------------+-------------------+\n",
            "|       1400|2014 Jabberwocky Rd|      26192|          Southlake|         Texas|                 US|\n",
            "|       1500|2011 Interiors Blvd|      99236|South San Francisco|    California|                 US|\n",
            "|       1700|    2004 Charade Rd|      98199|            Seattle|    Washington|                 US|\n",
            "|       1800|    147 Spadina Ave|    M5V 2L7|            Toronto|       Ontario|                 CA|\n",
            "|       2400|     8204 Arthur St|       null|             London|          null|                 UK|\n",
            "+-----------+-------------------+-----------+-------------------+--------------+-------------------+\n",
            "only showing top 5 rows\n",
            "\n"
          ]
        }
      ],
      "source": [
        "location = spark.read.csv('location.csv',header='true', \n",
        "                      inferSchema='true')\n",
        "location.show(5)"
      ]
    },
    {
      "cell_type": "code",
      "execution_count": null,
      "metadata": {
        "id": "ozzjMGBlGCXI",
        "outputId": "d70d424a-8035-47d3-ca7c-360acf5e40d7"
      },
      "outputs": [
        {
          "name": "stdout",
          "output_type": "stream",
          "text": [
            "+----------+------------+---------+\n",
            "|country_id|country_name|region_id|\n",
            "+----------+------------+---------+\n",
            "|        AR|   Argentina|        2|\n",
            "|        AU|   Australia|        3|\n",
            "|        BE|     Belgium|        1|\n",
            "|        BR|      Brazil|        2|\n",
            "|        CA|      Canada|        2|\n",
            "+----------+------------+---------+\n",
            "only showing top 5 rows\n",
            "\n"
          ]
        }
      ],
      "source": [
        "countries = spark.read.csv('country.csv',header='true', \n",
        "                      inferSchema='true')\n",
        "countries.show(5)"
      ]
    },
    {
      "cell_type": "markdown",
      "metadata": {
        "id": "A8iQR9NEGCXK"
      },
      "source": [
        "**1. Get list of employess along with their department details**"
      ]
    },
    {
      "cell_type": "code",
      "execution_count": null,
      "metadata": {
        "id": "-H4fktozGCXP",
        "outputId": "6b35701e-7e6f-4443-f27f-92706460522f"
      },
      "outputs": [
        {
          "name": "stdout",
          "output_type": "stream",
          "text": [
            "+-----------+----------+---------+--------------------+------------+----------+------+------+----------+-----------------+-------------+---------------+---------------+\n",
            "|employee_id|first_name|last_name|               email|phone_number| hire_date|job_id|salary|manager_id|emp_department_id|department_id|department_name|dep_location_id|\n",
            "+-----------+----------+---------+--------------------+------------+----------+------+------+----------+-----------------+-------------+---------------+---------------+\n",
            "|        100|    Steven|     King|steven.king@sqltu...|515.123.4567|1987-06-17|     4| 24000|      null|                9|            9|      Executive|           1700|\n",
            "|        101|     Neena|  Kochhar|neena.kochhar@sql...|515.123.4568|1989-09-21|     5| 17000|       100|                9|            9|      Executive|           1700|\n",
            "|        102|       Lex|   DeHaan|lex.dehaan@sqltut...|515.123.4569|1993-01-13|     5| 17000|       100|                9|            9|      Executive|           1700|\n",
            "|        103| Alexander|   Hunold|alexander.hunold@...|590.423.4567|1990-01-03|     9|  9000|       102|                6|            6|             IT|           1400|\n",
            "|        104|     Bruce|    Ernst|bruce.ernst@sqltu...|590.423.4568|1991-05-21|     9|  6000|       103|                6|            6|             IT|           1400|\n",
            "+-----------+----------+---------+--------------------+------------+----------+------+------+----------+-----------------+-------------+---------------+---------------+\n",
            "only showing top 5 rows\n",
            "\n"
          ]
        }
      ],
      "source": [
        "emp_dept =  emp.join(dept,emp[\"emp_department_id\"] ==  dept[\"department_id\"],\"left\")\n",
        "emp_dept.show(5)"
      ]
    },
    {
      "cell_type": "markdown",
      "metadata": {
        "id": "EFGEn6UUGCXQ"
      },
      "source": [
        "**2. Analysis Employee Department**"
      ]
    },
    {
      "cell_type": "code",
      "execution_count": null,
      "metadata": {
        "id": "pSB-mqz5GCXR",
        "outputId": "7a512514-7336-488c-b4e4-aeda170baff1"
      },
      "outputs": [
        {
          "name": "stdout",
          "output_type": "stream",
          "text": [
            "+----------------+-----+\n",
            "| department_name|count|\n",
            "+----------------+-----+\n",
            "|           Sales|    6|\n",
            "|      Accounting|    2|\n",
            "|         Finance|    6|\n",
            "|Public Relations|    1|\n",
            "|       Executive|    3|\n",
            "|      Purchasing|    6|\n",
            "|       Marketing|    2|\n",
            "|              IT|    5|\n",
            "|  Administration|    1|\n",
            "|        Shipping|    7|\n",
            "| Human Resources|    1|\n",
            "+----------------+-----+\n",
            "\n"
          ]
        }
      ],
      "source": [
        "emp_dept.groupBy('department_name').count().show()"
      ]
    },
    {
      "cell_type": "code",
      "execution_count": null,
      "metadata": {
        "id": "eYMTrz7OGCXR",
        "outputId": "7f2664d5-93c8-47c6-a799-f40b37e7954d"
      },
      "outputs": [
        {
          "data": {
            "text/html": [
              "<div>\n",
              "<style scoped>\n",
              "    .dataframe tbody tr th:only-of-type {\n",
              "        vertical-align: middle;\n",
              "    }\n",
              "\n",
              "    .dataframe tbody tr th {\n",
              "        vertical-align: top;\n",
              "    }\n",
              "\n",
              "    .dataframe thead th {\n",
              "        text-align: right;\n",
              "    }\n",
              "</style>\n",
              "<table border=\"1\" class=\"dataframe\">\n",
              "  <thead>\n",
              "    <tr style=\"text-align: right;\">\n",
              "      <th></th>\n",
              "      <th>department_name</th>\n",
              "    </tr>\n",
              "  </thead>\n",
              "  <tbody>\n",
              "    <tr>\n",
              "      <th>0</th>\n",
              "      <td>Executive</td>\n",
              "    </tr>\n",
              "    <tr>\n",
              "      <th>1</th>\n",
              "      <td>Executive</td>\n",
              "    </tr>\n",
              "    <tr>\n",
              "      <th>2</th>\n",
              "      <td>Executive</td>\n",
              "    </tr>\n",
              "    <tr>\n",
              "      <th>3</th>\n",
              "      <td>IT</td>\n",
              "    </tr>\n",
              "    <tr>\n",
              "      <th>4</th>\n",
              "      <td>IT</td>\n",
              "    </tr>\n",
              "  </tbody>\n",
              "</table>\n",
              "</div>"
            ],
            "text/plain": [
              "  department_name\n",
              "0       Executive\n",
              "1       Executive\n",
              "2       Executive\n",
              "3              IT\n",
              "4              IT"
            ]
          },
          "execution_count": 155,
          "metadata": {},
          "output_type": "execute_result"
        }
      ],
      "source": [
        "department_count = emp_dept.select('department_name').toPandas()\n",
        "department_count.head()"
      ]
    },
    {
      "cell_type": "code",
      "execution_count": null,
      "metadata": {
        "id": "lwCDi0uHGCXS"
      },
      "outputs": [],
      "source": [
        "# Creating a function to make a countplot\n",
        "\n",
        "def plot_categorical(feature , dataset):\n",
        "    ax = sns.countplot(y=feature, data=dataset)\n",
        "    plt.title('Distribution of ' + feature)\n",
        "    plt.xlabel('target')\n",
        "\n",
        "    total = len(dataset[feature])\n",
        "    for p in ax.patches:\n",
        "            percentage = '{:.1f}%'.format(100 * p.get_width()/total)\n",
        "            x = p.get_x() + p.get_width() + 0.02\n",
        "            y = p.get_y() + p.get_height()/2\n",
        "            ax.annotate(percentage, (x, y))\n",
        "\n",
        "    plt.show()"
      ]
    },
    {
      "cell_type": "code",
      "execution_count": null,
      "metadata": {
        "id": "84ULRFALGCXT",
        "outputId": "309ccb8f-e919-476d-f40d-a7174d4ff102"
      },
      "outputs": [
        {
          "data": {
            "image/png": "[encoded data removed]",
            "text/plain": [
              "<Figure size 432x288 with 1 Axes>"
            ]
          },
          "metadata": {},
          "output_type": "display_data"
        }
      ],
      "source": [
        "import matplotlib.pyplot as plt\n",
        "import seaborn as sns\n",
        "sns.set()\n",
        "plot_categorical('department_name',department_count)"
      ]
    },
    {
      "cell_type": "markdown",
      "metadata": {
        "id": "EVc6gy7fGCXU"
      },
      "source": [
        "**Conclusion**\n",
        "\n",
        "* Majority of employess(around 17.5%) work in Shipping Department\n",
        "* Administration, Human Resources and Public Relations are Departments having least number of Employees working\n",
        "* Finance, Sales and Purchasing departments have equal percentage of employees employeed "
      ]
    },
    {
      "cell_type": "markdown",
      "metadata": {
        "id": "o4-SXOYFGCXU"
      },
      "source": [
        "**3. Get Address of Administration and Marketing Department**"
      ]
    },
    {
      "cell_type": "code",
      "execution_count": null,
      "metadata": {
        "id": "QcF1yNA9GCXV"
      },
      "outputs": [],
      "source": [
        "department_locations = dept.join(location,dept[\"dep_location_id\"] ==  location[\"location_id\"],\"left\")"
      ]
    },
    {
      "cell_type": "code",
      "execution_count": null,
      "metadata": {
        "id": "277YjBGGGCXV",
        "outputId": "1d87fe2b-3aec-49e0-9c16-7dd79adbebb4"
      },
      "outputs": [
        {
          "name": "stdout",
          "output_type": "stream",
          "text": [
            "+-------------+---------------+---------------+-----------+---------------+-----------+-------+--------------+-------------------+----------+--------------------+---------+\n",
            "|department_id|department_name|dep_location_id|location_id| street_address|postal_code|   city|state_province|location_country_id|country_id|        country_name|region_id|\n",
            "+-------------+---------------+---------------+-----------+---------------+-----------+-------+--------------+-------------------+----------+--------------------+---------+\n",
            "|            1| Administration|           1700|       1700|2004 Charade Rd|      98199|Seattle|    Washington|                 US|        US|United States of ...|        2|\n",
            "+-------------+---------------+---------------+-----------+---------------+-----------+-------+--------------+-------------------+----------+--------------------+---------+\n",
            "only showing top 1 row\n",
            "\n"
          ]
        }
      ],
      "source": [
        "countries_department_locations = department_locations.join(countries,department_locations[\"location_country_id\"] ==  countries[\"country_id\"],\"left\")\n",
        "countries_department_locations.show(1)"
      ]
    },
    {
      "cell_type": "markdown",
      "metadata": {
        "id": "y37EyhfvGCXW"
      },
      "source": [
        "**4. Get Employees who work in USA as Administration department**"
      ]
    },
    {
      "cell_type": "code",
      "execution_count": null,
      "metadata": {
        "scrolled": true,
        "id": "k2v8brgHGCXW",
        "outputId": "539e2496-3598-4bb9-bf04-76993fcb8b83"
      },
      "outputs": [
        {
          "name": "stdout",
          "output_type": "stream",
          "text": [
            "+-----------+----------+---------+--------------------+------------+----------+------+------+----------+-----------------+-------------+---------------+---------------+-----------+---------------+-----------+-------+--------------+-------------------+----------+--------------------+---------+\n",
            "|employee_id|first_name|last_name|               email|phone_number| hire_date|job_id|salary|manager_id|emp_department_id|department_id|department_name|dep_location_id|location_id| street_address|postal_code|   city|state_province|location_country_id|country_id|        country_name|region_id|\n",
            "+-----------+----------+---------+--------------------+------------+----------+------+------+----------+-----------------+-------------+---------------+---------------+-----------+---------------+-----------+-------+--------------+-------------------+----------+--------------------+---------+\n",
            "|        200|  Jennifer|   Whalen|jennifer.whalen@s...|515.123.4444|1987-09-17|     3|  4400|       101|                1|            1| Administration|           1700|       1700|2004 Charade Rd|      98199|Seattle|    Washington|                 US|        US|United States of ...|        2|\n",
            "+-----------+----------+---------+--------------------+------------+----------+------+------+----------+-----------------+-------------+---------------+---------------+-----------+---------------+-----------+-------+--------------+-------------------+----------+--------------------+---------+\n",
            "only showing top 1 row\n",
            "\n"
          ]
        }
      ],
      "source": [
        "employees_department_locations = emp.join(countries_department_locations,emp[\"emp_department_id\"] ==  countries_department_locations[\"department_id\"],\"left\")\n",
        "employees_department_locations.show(1)"
      ]
    },
    {
      "cell_type": "code",
      "execution_count": null,
      "metadata": {
        "id": "tBT-QJgAGCXX",
        "outputId": "1de29ff2-db72-4ff7-cc21-d30db71a9d21"
      },
      "outputs": [
        {
          "name": "stdout",
          "output_type": "stream",
          "text": [
            "+-----------+----------+---------+--------------------+------------+----------+------+------+----------+-----------------+-------------+---------------+---------------+-----------+---------------+-----------+-------+--------------+-------------------+----------+--------------------+---------+\n",
            "|employee_id|first_name|last_name|               email|phone_number| hire_date|job_id|salary|manager_id|emp_department_id|department_id|department_name|dep_location_id|location_id| street_address|postal_code|   city|state_province|location_country_id|country_id|        country_name|region_id|\n",
            "+-----------+----------+---------+--------------------+------------+----------+------+------+----------+-----------------+-------------+---------------+---------------+-----------+---------------+-----------+-------+--------------+-------------------+----------+--------------------+---------+\n",
            "|        200|  Jennifer|   Whalen|jennifer.whalen@s...|515.123.4444|1987-09-17|     3|  4400|       101|                1|            1| Administration|           1700|       1700|2004 Charade Rd|      98199|Seattle|    Washington|                 US|        US|United States of ...|        2|\n",
            "+-----------+----------+---------+--------------------+------------+----------+------+------+----------+-----------------+-------------+---------------+---------------+-----------+---------------+-----------+-------+--------------+-------------------+----------+--------------------+---------+\n",
            "\n"
          ]
        }
      ],
      "source": [
        "employees_department_locations.filter( (employees_department_locations.country_id  == \"US\") & (employees_department_locations.department_name  == \"Administration\") ).show()  "
      ]
    },
    {
      "cell_type": "markdown",
      "metadata": {
        "id": "8EuIQ6fvGCXX"
      },
      "source": [
        "**5. How many employees work in Canada ?**"
      ]
    },
    {
      "cell_type": "code",
      "execution_count": null,
      "metadata": {
        "scrolled": true,
        "id": "4KcIN4FyGCXY",
        "outputId": "305a5bc6-1eb7-48b7-db94-9cc455fc17e0"
      },
      "outputs": [
        {
          "data": {
            "text/plain": [
              "Row(employee_id=200, first_name='Jennifer', last_name='Whalen', email='jennifer.whalen@sqltutorial.org', phone_number='515.123.4444', hire_date='1987-09-17', job_id=3, salary=4400, manager_id=101, emp_department_id=1, department_id=1, department_name='Administration', dep_location_id=1700, location_id=1700, street_address='2004 Charade Rd', postal_code='98199', city='Seattle', state_province='Washington', location_country_id='US', country_id='US', country_name='United States of America', region_id=2)"
            ]
          },
          "execution_count": 80,
          "metadata": {},
          "output_type": "execute_result"
        }
      ],
      "source": [
        "rdd_1 = employees_department_locations.rdd\n",
        "rdd_1.collect()[0]"
      ]
    },
    {
      "cell_type": "code",
      "execution_count": null,
      "metadata": {
        "id": "6P_nKgGjGCXY",
        "outputId": "e8108e02-56bb-460f-d8c7-1563ffbece58"
      },
      "outputs": [
        {
          "name": "stdout",
          "output_type": "stream",
          "text": [
            "+--------------------+-----+\n",
            "|        country_name|count|\n",
            "+--------------------+-----+\n",
            "|             Germany|    1|\n",
            "|United States of ...|   30|\n",
            "|              Canada|    2|\n",
            "|      United Kingdom|    7|\n",
            "+--------------------+-----+\n",
            "\n"
          ]
        }
      ],
      "source": [
        "employees_department_locations.groupBy('country_name').count().show()"
      ]
    },
    {
      "cell_type": "markdown",
      "metadata": {
        "id": "MHBi7GW_GCXZ"
      },
      "source": [
        "**Only two people works in canada**"
      ]
    },
    {
      "cell_type": "markdown",
      "metadata": {
        "id": "Wqk1X50xGCXZ"
      },
      "source": [
        "**6. Get Complete Address of Employees**"
      ]
    },
    {
      "cell_type": "code",
      "execution_count": null,
      "metadata": {
        "id": "IWW_F-4zGCXZ",
        "outputId": "6f414235-7e5a-49c1-efe7-2d4ffd58cd36"
      },
      "outputs": [
        {
          "name": "stdout",
          "output_type": "stream",
          "text": [
            "root\n",
            " |-- employee_id: integer (nullable = true)\n",
            " |-- first_name: string (nullable = true)\n",
            " |-- last_name: string (nullable = true)\n",
            " |-- email: string (nullable = true)\n",
            " |-- phone_number: string (nullable = true)\n",
            " |-- hire_date: string (nullable = true)\n",
            " |-- job_id: integer (nullable = true)\n",
            " |-- salary: integer (nullable = true)\n",
            " |-- manager_id: integer (nullable = true)\n",
            " |-- emp_department_id: integer (nullable = true)\n",
            " |-- department_id: integer (nullable = true)\n",
            " |-- department_name: string (nullable = true)\n",
            " |-- dep_location_id: integer (nullable = true)\n",
            " |-- location_id: integer (nullable = true)\n",
            " |-- street_address: string (nullable = true)\n",
            " |-- postal_code: string (nullable = true)\n",
            " |-- city: string (nullable = true)\n",
            " |-- state_province: string (nullable = true)\n",
            " |-- location_country_id: string (nullable = true)\n",
            " |-- country_id: string (nullable = true)\n",
            " |-- country_name: string (nullable = true)\n",
            " |-- region_id: integer (nullable = true)\n",
            "\n"
          ]
        }
      ],
      "source": [
        "employees_department_locations.printSchema()"
      ]
    },
    {
      "cell_type": "code",
      "execution_count": null,
      "metadata": {
        "scrolled": true,
        "id": "TamvEEDUGCXa",
        "outputId": "d4187bc5-25bb-4c29-fdb8-d2b70214920f"
      },
      "outputs": [
        {
          "name": "stdout",
          "output_type": "stream",
          "text": [
            "+--------------------+\n",
            "|             Address|\n",
            "+--------------------+\n",
            "|2004 Charade Rd,S...|\n",
            "|2014 Jabberwocky ...|\n",
            "|2014 Jabberwocky ...|\n",
            "|2014 Jabberwocky ...|\n",
            "|2014 Jabberwocky ...|\n",
            "|2014 Jabberwocky ...|\n",
            "|2004 Charade Rd,S...|\n",
            "|2004 Charade Rd,S...|\n",
            "|2004 Charade Rd,S...|\n",
            "|2004 Charade Rd,S...|\n",
            "|2004 Charade Rd,S...|\n",
            "|2004 Charade Rd,S...|\n",
            "|2011 Interiors Bl...|\n",
            "|2011 Interiors Bl...|\n",
            "|2011 Interiors Bl...|\n",
            "|2011 Interiors Bl...|\n",
            "|2011 Interiors Bl...|\n",
            "|2011 Interiors Bl...|\n",
            "|2011 Interiors Bl...|\n",
            "|2004 Charade Rd,S...|\n",
            "+--------------------+\n",
            "only showing top 20 rows\n",
            "\n"
          ]
        }
      ],
      "source": [
        "from pyspark.sql.functions import concat , col , lit\n",
        "employees_department_locations.withColumn(\"Address\",concat(col(\"street_address\"), lit(\",\"), col(\"city\"), lit(\",\"), col(\"postal_code\"), lit(\",\"), col(\"state_province\") , lit(\",\"), col(\"country_name\"))).select('Address').show()"
      ]
    },
    {
      "cell_type": "markdown",
      "metadata": {
        "id": "M7NGSKcrGCXa"
      },
      "source": [
        "**7. Convert Employee's First name and last name to lower case letters and concatinate them**"
      ]
    },
    {
      "cell_type": "code",
      "execution_count": null,
      "metadata": {
        "id": "FLOG-V7oGCXb"
      },
      "outputs": [],
      "source": [
        "def convertCase(string):\n",
        "    return string.lower()"
      ]
    },
    {
      "cell_type": "code",
      "execution_count": null,
      "metadata": {
        "id": "SFovTrVPGCXc"
      },
      "outputs": [],
      "source": [
        "from pyspark.sql.functions import udf , StringType\n",
        "convertUDF = udf(lambda z: convertCase(z),StringType())"
      ]
    },
    {
      "cell_type": "code",
      "execution_count": null,
      "metadata": {
        "id": "gxo9UMIZGCXc",
        "outputId": "f81b1e6a-13b0-4074-e137-063f052b2929"
      },
      "outputs": [
        {
          "name": "stdout",
          "output_type": "stream",
          "text": [
            "+----------------+\n",
            "|            Name|\n",
            "+----------------+\n",
            "|     steven king|\n",
            "|   neena kochhar|\n",
            "|      lex dehaan|\n",
            "|alexander hunold|\n",
            "|     bruce ernst|\n",
            "|    david austin|\n",
            "| valli pataballa|\n",
            "|   diana lorentz|\n",
            "| nancy greenberg|\n",
            "|   daniel faviet|\n",
            "|       john chen|\n",
            "|  ismael sciarra|\n",
            "|josemanuel urman|\n",
            "|       luis popp|\n",
            "|    den raphaely|\n",
            "|  alexander khoo|\n",
            "|    shelli baida|\n",
            "|    sigal tobias|\n",
            "|      guy himuro|\n",
            "|karen colmenares|\n",
            "+----------------+\n",
            "only showing top 20 rows\n",
            "\n"
          ]
        }
      ],
      "source": [
        "emp.select(convertUDF(col(\"first_name\")).alias(\"first_name\"), convertUDF(col(\"last_name\")).alias(\"last_name\") ).withColumn(\"Name\",concat(col(\"first_name\"), lit(\" \"), col(\"last_name\"))).select('Name').show()"
      ]
    },
    {
      "cell_type": "markdown",
      "metadata": {
        "id": "VjJKRv_8GCXd"
      },
      "source": [
        "**8. Get Hightest paid jobs**"
      ]
    },
    {
      "cell_type": "code",
      "execution_count": null,
      "metadata": {
        "id": "-f92jUZpGCXd",
        "outputId": "a9147e86-52b7-486a-e17e-dc1421da496b"
      },
      "outputs": [
        {
          "data": {
            "text/plain": [
              "24000"
            ]
          },
          "execution_count": 133,
          "metadata": {},
          "output_type": "execute_result"
        }
      ],
      "source": [
        "from pyspark.sql.functions import max\n",
        "employees_department_locations.select(max('salary')).collect()[0][0]"
      ]
    },
    {
      "cell_type": "code",
      "execution_count": null,
      "metadata": {
        "id": "gjkKQvMbGCXd"
      },
      "outputs": [],
      "source": [
        "data = employees_department_locations.select('*')"
      ]
    },
    {
      "cell_type": "code",
      "execution_count": null,
      "metadata": {
        "id": "X3iCKOVxGCXe",
        "outputId": "d5ff3839-4983-4fa7-96fe-411e36dafe89"
      },
      "outputs": [
        {
          "data": {
            "text/plain": [
              "'Executive'"
            ]
          },
          "execution_count": 142,
          "metadata": {},
          "output_type": "execute_result"
        }
      ],
      "source": [
        "from pyspark.sql import SQLContext\n",
        "data.registerTempTable(\"data\")\n",
        "sql_context = SQLContext(spark)\n",
        "sql_context.sql(f\"SELECT department_name from data WHERE salary == {employees_department_locations.select(max('salary')).collect()[0][0]}\").collect()[0][0]"
      ]
    },
    {
      "cell_type": "markdown",
      "metadata": {
        "id": "5OFmivKAGCXe"
      },
      "source": [
        "Hightest paid job is Executive"
      ]
    }
  ],
  "metadata": {
    "kernelspec": {
      "display_name": "Python 3",
      "language": "python",
      "name": "python3"
    },
    "language_info": {
      "codemirror_mode": {
        "name": "ipython",
        "version": 3
      },
      "file_extension": ".py",
      "mimetype": "text/x-python",
      "name": "python",
      "nbconvert_exporter": "python",
      "pygments_lexer": "ipython3",
      "version": "3.8.2"
    },
    "colab": {
      "name": "Spark_Assignment.ipynb",
      "provenance": [],
      "collapsed_sections": [],
      "include_colab_link": true
    }
  },
  "nbformat": 4,
  "nbformat_minor": 0
}